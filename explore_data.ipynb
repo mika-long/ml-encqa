{
 "cells": [
  {
   "cell_type": "markdown",
   "id": "be98aefe-71d5-4cca-97dd-5fa0c8d2a289",
   "metadata": {},
   "source": [
    "# Explore `EncQA` data "
   ]
  },
  {
   "cell_type": "code",
   "execution_count": 39,
   "id": "ebb07837-8c52-41f7-8287-665cf7518c57",
   "metadata": {},
   "outputs": [],
   "source": [
    "import polars as pl\n",
    "import os \n",
    "from PIL import Image \n",
    "import io \n",
    "import base64\n",
    "import json "
   ]
  },
  {
   "cell_type": "code",
   "execution_count": 7,
   "id": "99a05a10",
   "metadata": {},
   "outputs": [
    {
     "data": {
      "text/plain": [
       "'/Users/shenglong/Downloads/ml-encqa'"
      ]
     },
     "execution_count": 7,
     "metadata": {},
     "output_type": "execute_result"
    }
   ],
   "source": [
    "os.getcwd()"
   ]
  },
  {
   "cell_type": "code",
   "execution_count": 9,
   "id": "e538e7d3",
   "metadata": {},
   "outputs": [
    {
     "data": {
      "text/html": [
       "<div><style>\n",
       ".dataframe > thead > tr,\n",
       ".dataframe > tbody > tr {\n",
       "  text-align: right;\n",
       "  white-space: pre-wrap;\n",
       "}\n",
       "</style>\n",
       "<small>shape: (5, 15)</small><table border=\"1\" class=\"dataframe\"><thead><tr><th>image_path</th><th>question</th><th>true_label</th><th>options</th><th>task</th><th>task_details</th><th>encoding</th><th>variable_type</th><th>answer_type</th><th>num_marks</th><th>num_categories</th><th>chart_spec</th><th>image</th><th>split</th><th>canary_guid</th></tr><tr><td>str</td><td>str</td><td>str</td><td>list[str]</td><td>str</td><td>str</td><td>str</td><td>str</td><td>str</td><td>i8</td><td>i8</td><td>str</td><td>struct[2]</td><td>str</td><td>str</td></tr></thead><tbody><tr><td>&quot;synthetic_data/images/find_ext…</td><td>&quot;which color has the most obser…</td><td>&quot;Green&quot;</td><td>[&quot;Blue&quot;, &quot;Purple&quot;, … &quot;Orange&quot;]</td><td>&quot;find_extrema&quot;</td><td>&quot;{&quot;extremum&quot;: &quot;maximum&quot;}&quot;</td><td>&quot;color_nominal&quot;</td><td>&quot;nominal&quot;</td><td>&quot;multiple_choice&quot;</td><td>12</td><td>5</td><td>&quot;{&quot;config&quot;: {&quot;view&quot;: {&quot;continuo…</td><td>{b&quot;\\x89PNG\\x0d\\x0a\\x1a\\x0a\\x00\\x00\\x00\\x0dIHDR\\x00\\x00\\x01\\xa0\\x00\\x00\\x01\\xa0\\x08\\x02\\x00\\x00\\x00cT$\\x0e\\x00\\x00\\x16\\x81IDATx\\x9c\\xed\\xddoL\\x1c\\xf7\\x99\\xc0\\xf1\\xb1Ycf\\xd7\\x10\\xb3\\x0b&quot;…,null}</td><td>&quot;synthetic_data&quot;</td><td>&quot;826ba6c6-5e2d-4b59-8684-77e497…</td></tr><tr><td>&quot;synthetic_data/images/find_ext…</td><td>&quot;which color has the least obse…</td><td>&quot;Blue&quot;</td><td>[&quot;Red&quot;, &quot;Green&quot;, … &quot;Orange&quot;]</td><td>&quot;find_extrema&quot;</td><td>&quot;{&quot;extremum&quot;: &quot;minimum&quot;}&quot;</td><td>&quot;color_nominal&quot;</td><td>&quot;nominal&quot;</td><td>&quot;multiple_choice&quot;</td><td>12</td><td>5</td><td>&quot;{&quot;config&quot;: {&quot;view&quot;: {&quot;continuo…</td><td>{b&quot;\\x89PNG\\x0d\\x0a\\x1a\\x0a\\x00\\x00\\x00\\x0dIHDR\\x00\\x00\\x01\\xa0\\x00\\x00\\x01\\xa0\\x08\\x02\\x00\\x00\\x00cT$\\x0e\\x00\\x00\\x16\\x81IDATx\\x9c\\xed\\xddoL\\x1c\\xf7\\x99\\xc0\\xf1\\xb1Ycf\\xd7\\x10\\xb3\\x0b&quot;…,null}</td><td>&quot;synthetic_data&quot;</td><td>&quot;826ba6c6-5e2d-4b59-8684-77e497…</td></tr><tr><td>&quot;synthetic_data/images/find_ext…</td><td>&quot;which color has the most obser…</td><td>&quot;Red&quot;</td><td>[&quot;Blue&quot;, &quot;Purple&quot;, … &quot;Orange&quot;]</td><td>&quot;find_extrema&quot;</td><td>&quot;{&quot;extremum&quot;: &quot;maximum&quot;}&quot;</td><td>&quot;color_nominal&quot;</td><td>&quot;nominal&quot;</td><td>&quot;multiple_choice&quot;</td><td>12</td><td>5</td><td>&quot;{&quot;config&quot;: {&quot;view&quot;: {&quot;continuo…</td><td>{b&quot;\\x89PNG\\x0d\\x0a\\x1a\\x0a\\x00\\x00\\x00\\x0dIHDR\\x00\\x00\\x01\\xa0\\x00\\x00\\x01\\xa0\\x08\\x02\\x00\\x00\\x00cT$\\x0e\\x00\\x00\\x170IDATx\\x9c\\xed\\xddol\\xd3\\xf7\\x9d\\xc0\\xf1o\\xfe`\\xf89\\x7f\\xc0q&quot;…,null}</td><td>&quot;synthetic_data&quot;</td><td>&quot;826ba6c6-5e2d-4b59-8684-77e497…</td></tr><tr><td>&quot;synthetic_data/images/find_ext…</td><td>&quot;which color has the least obse…</td><td>&quot;Purple&quot;</td><td>[&quot;Green&quot;, &quot;Red&quot;, … &quot;Purple&quot;]</td><td>&quot;find_extrema&quot;</td><td>&quot;{&quot;extremum&quot;: &quot;minimum&quot;}&quot;</td><td>&quot;color_nominal&quot;</td><td>&quot;nominal&quot;</td><td>&quot;multiple_choice&quot;</td><td>12</td><td>5</td><td>&quot;{&quot;config&quot;: {&quot;view&quot;: {&quot;continuo…</td><td>{b&quot;\\x89PNG\\x0d\\x0a\\x1a\\x0a\\x00\\x00\\x00\\x0dIHDR\\x00\\x00\\x01\\xa0\\x00\\x00\\x01\\xa0\\x08\\x02\\x00\\x00\\x00cT$\\x0e\\x00\\x00\\x170IDATx\\x9c\\xed\\xddol\\xd3\\xf7\\x9d\\xc0\\xf1o\\xfe`\\xf89\\x7f\\xc0q&quot;…,null}</td><td>&quot;synthetic_data&quot;</td><td>&quot;826ba6c6-5e2d-4b59-8684-77e497…</td></tr><tr><td>&quot;synthetic_data/images/find_ext…</td><td>&quot;which color has the most obser…</td><td>&quot;Purple&quot;</td><td>[&quot;Orange&quot;, &quot;Blue&quot;, … &quot;Purple&quot;]</td><td>&quot;find_extrema&quot;</td><td>&quot;{&quot;extremum&quot;: &quot;maximum&quot;}&quot;</td><td>&quot;color_nominal&quot;</td><td>&quot;nominal&quot;</td><td>&quot;multiple_choice&quot;</td><td>12</td><td>5</td><td>&quot;{&quot;config&quot;: {&quot;view&quot;: {&quot;continuo…</td><td>{b&quot;\\x89PNG\\x0d\\x0a\\x1a\\x0a\\x00\\x00\\x00\\x0dIHDR\\x00\\x00\\x01\\xa0\\x00\\x00\\x01\\xa0\\x08\\x02\\x00\\x00\\x00cT$\\x0e\\x00\\x00\\x16\\xf9IDATx\\x9c\\xed\\xddMl\\x9b\\xf7}\\xc0\\xf1\\xc7\\xa6D\\x89\\x94HK&quot;&quot;…,null}</td><td>&quot;synthetic_data&quot;</td><td>&quot;826ba6c6-5e2d-4b59-8684-77e497…</td></tr></tbody></table></div>"
      ],
      "text/plain": [
       "shape: (5, 15)\n",
       "┌───────────┬───────────┬───────────┬───────────┬───┬───────────┬───────────┬───────────┬──────────┐\n",
       "│ image_pat ┆ question  ┆ true_labe ┆ options   ┆ … ┆ chart_spe ┆ image     ┆ split     ┆ canary_g │\n",
       "│ h         ┆ ---       ┆ l         ┆ ---       ┆   ┆ c         ┆ ---       ┆ ---       ┆ uid      │\n",
       "│ ---       ┆ str       ┆ ---       ┆ list[str] ┆   ┆ ---       ┆ struct[2] ┆ str       ┆ ---      │\n",
       "│ str       ┆           ┆ str       ┆           ┆   ┆ str       ┆           ┆           ┆ str      │\n",
       "╞═══════════╪═══════════╪═══════════╪═══════════╪═══╪═══════════╪═══════════╪═══════════╪══════════╡\n",
       "│ synthetic ┆ which     ┆ Green     ┆ [\"Blue\",  ┆ … ┆ {\"config\" ┆ {b\"\\x89PN ┆ synthetic ┆ 826ba6c6 │\n",
       "│ _data/ima ┆ color has ┆           ┆ \"Purple\", ┆   ┆ :         ┆ G\\x0d\\x0a ┆ _data     ┆ -5e2d-4b │\n",
       "│ ges/find_ ┆ the most  ┆           ┆ …         ┆   ┆ {\"view\":  ┆ \\x1a\\x0a\\ ┆           ┆ 59-8684- │\n",
       "│ ext…      ┆ obser…    ┆           ┆ \"Orange\"] ┆   ┆ {\"continu ┆ x00…      ┆           ┆ 77e497…  │\n",
       "│           ┆           ┆           ┆           ┆   ┆ o…        ┆           ┆           ┆          │\n",
       "│ synthetic ┆ which     ┆ Blue      ┆ [\"Red\",   ┆ … ┆ {\"config\" ┆ {b\"\\x89PN ┆ synthetic ┆ 826ba6c6 │\n",
       "│ _data/ima ┆ color has ┆           ┆ \"Green\",  ┆   ┆ :         ┆ G\\x0d\\x0a ┆ _data     ┆ -5e2d-4b │\n",
       "│ ges/find_ ┆ the least ┆           ┆ …         ┆   ┆ {\"view\":  ┆ \\x1a\\x0a\\ ┆           ┆ 59-8684- │\n",
       "│ ext…      ┆ obse…     ┆           ┆ \"Orange\"] ┆   ┆ {\"continu ┆ x00…      ┆           ┆ 77e497…  │\n",
       "│           ┆           ┆           ┆           ┆   ┆ o…        ┆           ┆           ┆          │\n",
       "│ synthetic ┆ which     ┆ Red       ┆ [\"Blue\",  ┆ … ┆ {\"config\" ┆ {b\"\\x89PN ┆ synthetic ┆ 826ba6c6 │\n",
       "│ _data/ima ┆ color has ┆           ┆ \"Purple\", ┆   ┆ :         ┆ G\\x0d\\x0a ┆ _data     ┆ -5e2d-4b │\n",
       "│ ges/find_ ┆ the most  ┆           ┆ …         ┆   ┆ {\"view\":  ┆ \\x1a\\x0a\\ ┆           ┆ 59-8684- │\n",
       "│ ext…      ┆ obser…    ┆           ┆ \"Orange\"] ┆   ┆ {\"continu ┆ x00…      ┆           ┆ 77e497…  │\n",
       "│           ┆           ┆           ┆           ┆   ┆ o…        ┆           ┆           ┆          │\n",
       "│ synthetic ┆ which     ┆ Purple    ┆ [\"Green\", ┆ … ┆ {\"config\" ┆ {b\"\\x89PN ┆ synthetic ┆ 826ba6c6 │\n",
       "│ _data/ima ┆ color has ┆           ┆ \"Red\", …  ┆   ┆ :         ┆ G\\x0d\\x0a ┆ _data     ┆ -5e2d-4b │\n",
       "│ ges/find_ ┆ the least ┆           ┆ \"Purple\"] ┆   ┆ {\"view\":  ┆ \\x1a\\x0a\\ ┆           ┆ 59-8684- │\n",
       "│ ext…      ┆ obse…     ┆           ┆           ┆   ┆ {\"continu ┆ x00…      ┆           ┆ 77e497…  │\n",
       "│           ┆           ┆           ┆           ┆   ┆ o…        ┆           ┆           ┆          │\n",
       "│ synthetic ┆ which     ┆ Purple    ┆ [\"Orange\" ┆ … ┆ {\"config\" ┆ {b\"\\x89PN ┆ synthetic ┆ 826ba6c6 │\n",
       "│ _data/ima ┆ color has ┆           ┆ , \"Blue\", ┆   ┆ :         ┆ G\\x0d\\x0a ┆ _data     ┆ -5e2d-4b │\n",
       "│ ges/find_ ┆ the most  ┆           ┆ …         ┆   ┆ {\"view\":  ┆ \\x1a\\x0a\\ ┆           ┆ 59-8684- │\n",
       "│ ext…      ┆ obser…    ┆           ┆ \"Purple\"] ┆   ┆ {\"continu ┆ x00…      ┆           ┆ 77e497…  │\n",
       "│           ┆           ┆           ┆           ┆   ┆ o…        ┆           ┆           ┆          │\n",
       "└───────────┴───────────┴───────────┴───────────┴───┴───────────┴───────────┴───────────┴──────────┘"
      ]
     },
     "execution_count": 9,
     "metadata": {},
     "output_type": "execute_result"
    }
   ],
   "source": [
    "df = pl.read_parquet(\"data/encqa_v1.parquet\")\n",
    "df.head()"
   ]
  },
  {
   "cell_type": "code",
   "execution_count": 15,
   "id": "a8c2f4fc-18a6-4cdd-94ea-4059a94cd38d",
   "metadata": {},
   "outputs": [
    {
     "data": {
      "text/html": [
       "<div><style>\n",
       ".dataframe > thead > tr,\n",
       ".dataframe > tbody > tr {\n",
       "  text-align: right;\n",
       "  white-space: pre-wrap;\n",
       "}\n",
       "</style>\n",
       "<small>shape: (8, 2)</small><table border=\"1\" class=\"dataframe\"><thead><tr><th>task</th><th>len</th></tr><tr><td>str</td><td>u32</td></tr></thead><tbody><tr><td>&quot;compute_derived_value_exact&quot;</td><td>275</td></tr><tr><td>&quot;compute_derived_value_relative&quot;</td><td>225</td></tr><tr><td>&quot;correlate_values&quot;</td><td>300</td></tr><tr><td>&quot;correlate_values_relative&quot;</td><td>150</td></tr><tr><td>&quot;retrieve_value&quot;</td><td>225</td></tr><tr><td>&quot;find_anomaly&quot;</td><td>450</td></tr><tr><td>&quot;filter_values&quot;</td><td>450</td></tr><tr><td>&quot;find_extrema&quot;</td><td>450</td></tr></tbody></table></div>"
      ],
      "text/plain": [
       "shape: (8, 2)\n",
       "┌────────────────────────────────┬─────┐\n",
       "│ task                           ┆ len │\n",
       "│ ---                            ┆ --- │\n",
       "│ str                            ┆ u32 │\n",
       "╞════════════════════════════════╪═════╡\n",
       "│ compute_derived_value_exact    ┆ 275 │\n",
       "│ compute_derived_value_relative ┆ 225 │\n",
       "│ correlate_values               ┆ 300 │\n",
       "│ correlate_values_relative      ┆ 150 │\n",
       "│ retrieve_value                 ┆ 225 │\n",
       "│ find_anomaly                   ┆ 450 │\n",
       "│ filter_values                  ┆ 450 │\n",
       "│ find_extrema                   ┆ 450 │\n",
       "└────────────────────────────────┴─────┘"
      ]
     },
     "execution_count": 15,
     "metadata": {},
     "output_type": "execute_result"
    }
   ],
   "source": [
    "df.group_by(\"task\").len()"
   ]
  },
  {
   "cell_type": "code",
   "execution_count": 22,
   "id": "f9de5bf1",
   "metadata": {},
   "outputs": [
    {
     "data": {
      "text/html": [
       "<div><style>\n",
       ".dataframe > thead > tr,\n",
       ".dataframe > tbody > tr {\n",
       "  text-align: right;\n",
       "  white-space: pre-wrap;\n",
       "}\n",
       "</style>\n",
       "<small>shape: (5, 15)</small><table border=\"1\" class=\"dataframe\"><thead><tr><th>image_path</th><th>question</th><th>true_label</th><th>options</th><th>task</th><th>task_details</th><th>encoding</th><th>variable_type</th><th>answer_type</th><th>num_marks</th><th>num_categories</th><th>chart_spec</th><th>image</th><th>split</th><th>canary_guid</th></tr><tr><td>str</td><td>str</td><td>str</td><td>list[str]</td><td>str</td><td>str</td><td>str</td><td>str</td><td>str</td><td>i8</td><td>i8</td><td>str</td><td>struct[2]</td><td>str</td><td>str</td></tr></thead><tbody><tr><td>&quot;synthetic_data/images/retrieve…</td><td>&quot;How many Purple circles are pr…</td><td>&quot;2&quot;</td><td>null</td><td>&quot;retrieve_value&quot;</td><td>&quot;{&quot;target_category&quot;: &quot;Purple&quot;}&quot;</td><td>&quot;color_nominal&quot;</td><td>&quot;nominal&quot;</td><td>&quot;numeric&quot;</td><td>12</td><td>5</td><td>&quot;{&quot;config&quot;: {&quot;view&quot;: {&quot;continuo…</td><td>{b&quot;\\x89PNG\\x0d\\x0a\\x1a\\x0a\\x00\\x00\\x00\\x0dIHDR\\x00\\x00\\x01\\xa0\\x00\\x00\\x01\\xa0\\x08\\x02\\x00\\x00\\x00cT$\\x0e\\x00\\x00\\x16\\x81IDATx\\x9c\\xed\\xddoL\\x1c\\xf7\\x99\\xc0\\xf1\\xb1Ycf\\xd7\\x10\\xb3\\x0b&quot;…,null}</td><td>&quot;synthetic_data&quot;</td><td>&quot;826ba6c6-5e2d-4b59-8684-77e497…</td></tr><tr><td>&quot;synthetic_data/images/retrieve…</td><td>&quot;How many Red circles are prese…</td><td>&quot;2&quot;</td><td>null</td><td>&quot;retrieve_value&quot;</td><td>&quot;{&quot;target_category&quot;: &quot;Red&quot;}&quot;</td><td>&quot;color_nominal&quot;</td><td>&quot;nominal&quot;</td><td>&quot;numeric&quot;</td><td>12</td><td>5</td><td>&quot;{&quot;config&quot;: {&quot;view&quot;: {&quot;continuo…</td><td>{b&quot;\\x89PNG\\x0d\\x0a\\x1a\\x0a\\x00\\x00\\x00\\x0dIHDR\\x00\\x00\\x01\\xa0\\x00\\x00\\x01\\xa0\\x08\\x02\\x00\\x00\\x00cT$\\x0e\\x00\\x00\\x16\\xbdIDATx\\x9c\\xed\\xdd\\x7fL\\x9b\\xf7\\x9d\\xc0\\xf1o\\x02\\x18\\x8c1\\x891\\x04&quot;…,null}</td><td>&quot;synthetic_data&quot;</td><td>&quot;826ba6c6-5e2d-4b59-8684-77e497…</td></tr><tr><td>&quot;synthetic_data/images/retrieve…</td><td>&quot;How many Blue circles are pres…</td><td>&quot;1&quot;</td><td>null</td><td>&quot;retrieve_value&quot;</td><td>&quot;{&quot;target_category&quot;: &quot;Blue&quot;}&quot;</td><td>&quot;color_nominal&quot;</td><td>&quot;nominal&quot;</td><td>&quot;numeric&quot;</td><td>12</td><td>5</td><td>&quot;{&quot;config&quot;: {&quot;view&quot;: {&quot;continuo…</td><td>{b&quot;\\x89PNG\\x0d\\x0a\\x1a\\x0a\\x00\\x00\\x00\\x0dIHDR\\x00\\x00\\x01\\xa0\\x00\\x00\\x01\\xa0\\x08\\x02\\x00\\x00\\x00cT$\\x0e\\x00\\x00\\x16\\x11IDATx\\x9c\\xed\\xdd]lT\\xe7\\x99\\xc0\\xf1\\x87x&lt;x&lt;\\xb6\\xc3\\xf8&quot;…,null}</td><td>&quot;synthetic_data&quot;</td><td>&quot;826ba6c6-5e2d-4b59-8684-77e497…</td></tr><tr><td>&quot;synthetic_data/images/retrieve…</td><td>&quot;How many Blue circles are pres…</td><td>&quot;2&quot;</td><td>null</td><td>&quot;retrieve_value&quot;</td><td>&quot;{&quot;target_category&quot;: &quot;Blue&quot;}&quot;</td><td>&quot;color_nominal&quot;</td><td>&quot;nominal&quot;</td><td>&quot;numeric&quot;</td><td>12</td><td>5</td><td>&quot;{&quot;config&quot;: {&quot;view&quot;: {&quot;continuo…</td><td>{b&quot;\\x89PNG\\x0d\\x0a\\x1a\\x0a\\x00\\x00\\x00\\x0dIHDR\\x00\\x00\\x01\\xa0\\x00\\x00\\x01\\xa0\\x08\\x02\\x00\\x00\\x00cT$\\x0e\\x00\\x00\\x16\\xc6IDATx\\x9c\\xed\\xddml\\x1b\\xf7}\\xc0\\xf1\\xbf\\x9e(\\x1f)\\xd9\\x92(&quot;…,null}</td><td>&quot;synthetic_data&quot;</td><td>&quot;826ba6c6-5e2d-4b59-8684-77e497…</td></tr><tr><td>&quot;synthetic_data/images/retrieve…</td><td>&quot;How many Green circles are pre…</td><td>&quot;1&quot;</td><td>null</td><td>&quot;retrieve_value&quot;</td><td>&quot;{&quot;target_category&quot;: &quot;Green&quot;}&quot;</td><td>&quot;color_nominal&quot;</td><td>&quot;nominal&quot;</td><td>&quot;numeric&quot;</td><td>12</td><td>5</td><td>&quot;{&quot;config&quot;: {&quot;view&quot;: {&quot;continuo…</td><td>{b&quot;\\x89PNG\\x0d\\x0a\\x1a\\x0a\\x00\\x00\\x00\\x0dIHDR\\x00\\x00\\x01\\xa0\\x00\\x00\\x01\\xa0\\x08\\x02\\x00\\x00\\x00cT$\\x0e\\x00\\x00\\x16\\xa4IDATx\\x9c\\xed\\xddol\\xd3\\xf7\\x9d\\xc0\\xf1\\x0f$1\\xd8N\\x00\\xc7\\xf9&quot;…,null}</td><td>&quot;synthetic_data&quot;</td><td>&quot;826ba6c6-5e2d-4b59-8684-77e497…</td></tr></tbody></table></div>"
      ],
      "text/plain": [
       "shape: (5, 15)\n",
       "┌───────────┬───────────┬───────────┬───────────┬───┬───────────┬───────────┬───────────┬──────────┐\n",
       "│ image_pat ┆ question  ┆ true_labe ┆ options   ┆ … ┆ chart_spe ┆ image     ┆ split     ┆ canary_g │\n",
       "│ h         ┆ ---       ┆ l         ┆ ---       ┆   ┆ c         ┆ ---       ┆ ---       ┆ uid      │\n",
       "│ ---       ┆ str       ┆ ---       ┆ list[str] ┆   ┆ ---       ┆ struct[2] ┆ str       ┆ ---      │\n",
       "│ str       ┆           ┆ str       ┆           ┆   ┆ str       ┆           ┆           ┆ str      │\n",
       "╞═══════════╪═══════════╪═══════════╪═══════════╪═══╪═══════════╪═══════════╪═══════════╪══════════╡\n",
       "│ synthetic ┆ How many  ┆ 2         ┆ null      ┆ … ┆ {\"config\" ┆ {b\"\\x89PN ┆ synthetic ┆ 826ba6c6 │\n",
       "│ _data/ima ┆ Purple    ┆           ┆           ┆   ┆ :         ┆ G\\x0d\\x0a ┆ _data     ┆ -5e2d-4b │\n",
       "│ ges/retri ┆ circles   ┆           ┆           ┆   ┆ {\"view\":  ┆ \\x1a\\x0a\\ ┆           ┆ 59-8684- │\n",
       "│ eve…      ┆ are pr…   ┆           ┆           ┆   ┆ {\"continu ┆ x00…      ┆           ┆ 77e497…  │\n",
       "│           ┆           ┆           ┆           ┆   ┆ o…        ┆           ┆           ┆          │\n",
       "│ synthetic ┆ How many  ┆ 2         ┆ null      ┆ … ┆ {\"config\" ┆ {b\"\\x89PN ┆ synthetic ┆ 826ba6c6 │\n",
       "│ _data/ima ┆ Red       ┆           ┆           ┆   ┆ :         ┆ G\\x0d\\x0a ┆ _data     ┆ -5e2d-4b │\n",
       "│ ges/retri ┆ circles   ┆           ┆           ┆   ┆ {\"view\":  ┆ \\x1a\\x0a\\ ┆           ┆ 59-8684- │\n",
       "│ eve…      ┆ are       ┆           ┆           ┆   ┆ {\"continu ┆ x00…      ┆           ┆ 77e497…  │\n",
       "│           ┆ prese…    ┆           ┆           ┆   ┆ o…        ┆           ┆           ┆          │\n",
       "│ synthetic ┆ How many  ┆ 1         ┆ null      ┆ … ┆ {\"config\" ┆ {b\"\\x89PN ┆ synthetic ┆ 826ba6c6 │\n",
       "│ _data/ima ┆ Blue      ┆           ┆           ┆   ┆ :         ┆ G\\x0d\\x0a ┆ _data     ┆ -5e2d-4b │\n",
       "│ ges/retri ┆ circles   ┆           ┆           ┆   ┆ {\"view\":  ┆ \\x1a\\x0a\\ ┆           ┆ 59-8684- │\n",
       "│ eve…      ┆ are pres… ┆           ┆           ┆   ┆ {\"continu ┆ x00…      ┆           ┆ 77e497…  │\n",
       "│           ┆           ┆           ┆           ┆   ┆ o…        ┆           ┆           ┆          │\n",
       "│ synthetic ┆ How many  ┆ 2         ┆ null      ┆ … ┆ {\"config\" ┆ {b\"\\x89PN ┆ synthetic ┆ 826ba6c6 │\n",
       "│ _data/ima ┆ Blue      ┆           ┆           ┆   ┆ :         ┆ G\\x0d\\x0a ┆ _data     ┆ -5e2d-4b │\n",
       "│ ges/retri ┆ circles   ┆           ┆           ┆   ┆ {\"view\":  ┆ \\x1a\\x0a\\ ┆           ┆ 59-8684- │\n",
       "│ eve…      ┆ are pres… ┆           ┆           ┆   ┆ {\"continu ┆ x00…      ┆           ┆ 77e497…  │\n",
       "│           ┆           ┆           ┆           ┆   ┆ o…        ┆           ┆           ┆          │\n",
       "│ synthetic ┆ How many  ┆ 1         ┆ null      ┆ … ┆ {\"config\" ┆ {b\"\\x89PN ┆ synthetic ┆ 826ba6c6 │\n",
       "│ _data/ima ┆ Green     ┆           ┆           ┆   ┆ :         ┆ G\\x0d\\x0a ┆ _data     ┆ -5e2d-4b │\n",
       "│ ges/retri ┆ circles   ┆           ┆           ┆   ┆ {\"view\":  ┆ \\x1a\\x0a\\ ┆           ┆ 59-8684- │\n",
       "│ eve…      ┆ are pre…  ┆           ┆           ┆   ┆ {\"continu ┆ x00…      ┆           ┆ 77e497…  │\n",
       "│           ┆           ┆           ┆           ┆   ┆ o…        ┆           ┆           ┆          │\n",
       "└───────────┴───────────┴───────────┴───────────┴───┴───────────┴───────────┴───────────┴──────────┘"
      ]
     },
     "execution_count": 22,
     "metadata": {},
     "output_type": "execute_result"
    }
   ],
   "source": [
    "ret_df = df.filter(pl.col(\"task\").is_in([\"retrieve_value\", \"compute_derived_value_exact\"]))\n",
    "ret_df.head()"
   ]
  },
  {
   "cell_type": "code",
   "execution_count": 23,
   "id": "9aa0abc7",
   "metadata": {},
   "outputs": [
    {
     "data": {
      "text/html": [
       "<div><style>\n",
       ".dataframe > thead > tr,\n",
       ".dataframe > tbody > tr {\n",
       "  text-align: right;\n",
       "  white-space: pre-wrap;\n",
       "}\n",
       "</style>\n",
       "<small>shape: (6, 2)</small><table border=\"1\" class=\"dataframe\"><thead><tr><th>encoding</th><th>len</th></tr><tr><td>str</td><td>u32</td></tr></thead><tbody><tr><td>&quot;area&quot;</td><td>100</td></tr><tr><td>&quot;color_quantitative&quot;</td><td>50</td></tr><tr><td>&quot;length&quot;</td><td>100</td></tr><tr><td>&quot;color_nominal&quot;</td><td>75</td></tr><tr><td>&quot;position&quot;</td><td>100</td></tr><tr><td>&quot;shape&quot;</td><td>75</td></tr></tbody></table></div>"
      ],
      "text/plain": [
       "shape: (6, 2)\n",
       "┌────────────────────┬─────┐\n",
       "│ encoding           ┆ len │\n",
       "│ ---                ┆ --- │\n",
       "│ str                ┆ u32 │\n",
       "╞════════════════════╪═════╡\n",
       "│ area               ┆ 100 │\n",
       "│ color_quantitative ┆ 50  │\n",
       "│ length             ┆ 100 │\n",
       "│ color_nominal      ┆ 75  │\n",
       "│ position           ┆ 100 │\n",
       "│ shape              ┆ 75  │\n",
       "└────────────────────┴─────┘"
      ]
     },
     "execution_count": 23,
     "metadata": {},
     "output_type": "execute_result"
    }
   ],
   "source": [
    "ret_df.group_by(\"encoding\").len()"
   ]
  },
  {
   "cell_type": "code",
   "execution_count": 24,
   "id": "282adcd4",
   "metadata": {},
   "outputs": [
    {
     "data": {
      "text/html": [
       "<div><style>\n",
       ".dataframe > thead > tr,\n",
       ".dataframe > tbody > tr {\n",
       "  text-align: right;\n",
       "  white-space: pre-wrap;\n",
       "}\n",
       "</style>\n",
       "<small>shape: (2, 2)</small><table border=\"1\" class=\"dataframe\"><thead><tr><th>encoding</th><th>len</th></tr><tr><td>str</td><td>u32</td></tr></thead><tbody><tr><td>&quot;position&quot;</td><td>100</td></tr><tr><td>&quot;length&quot;</td><td>100</td></tr></tbody></table></div>"
      ],
      "text/plain": [
       "shape: (2, 2)\n",
       "┌──────────┬─────┐\n",
       "│ encoding ┆ len │\n",
       "│ ---      ┆ --- │\n",
       "│ str      ┆ u32 │\n",
       "╞══════════╪═════╡\n",
       "│ position ┆ 100 │\n",
       "│ length   ┆ 100 │\n",
       "└──────────┴─────┘"
      ]
     },
     "execution_count": 24,
     "metadata": {},
     "output_type": "execute_result"
    }
   ],
   "source": [
    "ret_df = ret_df.filter(pl.col(\"encoding\").is_in([\"position\", \"length\"]))\n",
    "ret_df.group_by(\"encoding\").len()"
   ]
  },
  {
   "cell_type": "code",
   "execution_count": 27,
   "id": "016b19a7",
   "metadata": {},
   "outputs": [
    {
     "data": {
      "text/html": [
       "<div><style>\n",
       ".dataframe > thead > tr,\n",
       ".dataframe > tbody > tr {\n",
       "  text-align: right;\n",
       "  white-space: pre-wrap;\n",
       "}\n",
       "</style>\n",
       "<small>shape: (5, 15)</small><table border=\"1\" class=\"dataframe\"><thead><tr><th>image_path</th><th>question</th><th>true_label</th><th>options</th><th>task</th><th>task_details</th><th>encoding</th><th>variable_type</th><th>answer_type</th><th>num_marks</th><th>num_categories</th><th>chart_spec</th><th>image</th><th>split</th><th>canary_guid</th></tr><tr><td>str</td><td>str</td><td>str</td><td>list[str]</td><td>str</td><td>str</td><td>str</td><td>str</td><td>str</td><td>i8</td><td>i8</td><td>str</td><td>struct[2]</td><td>str</td><td>str</td></tr></thead><tbody><tr><td>&quot;synthetic_data/images/retrieve…</td><td>&quot;What is the value of Var at A?&quot;</td><td>&quot;38.88&quot;</td><td>null</td><td>&quot;retrieve_value&quot;</td><td>&quot;{&quot;target_category&quot;: &quot;A&quot;}&quot;</td><td>&quot;position&quot;</td><td>&quot;quantitative&quot;</td><td>&quot;numeric&quot;</td><td>5</td><td>5</td><td>&quot;{&quot;config&quot;: {&quot;view&quot;: {&quot;continuo…</td><td>{b&quot;\\x89PNG\\x0d\\x0a\\x1a\\x0a\\x00\\x00\\x00\\x0dIHDR\\x00\\x00\\x01\\xc1\\x00\\x00\\x01\\xb0\\x08\\x02\\x00\\x00\\x00^\\xa7I\\xdb\\x00\\x00\\x1b\\x15IDATx\\x9c\\xed\\xdd\\xbfo\\xdbH\\xc2\\xf0\\xf1\\xf1\\x8b\\x05,\\xe0)4\\xa9&quot;…,null}</td><td>&quot;synthetic_data&quot;</td><td>&quot;826ba6c6-5e2d-4b59-8684-77e497…</td></tr><tr><td>&quot;synthetic_data/images/retrieve…</td><td>&quot;What is the value of Var at E?&quot;</td><td>&quot;53.38&quot;</td><td>null</td><td>&quot;retrieve_value&quot;</td><td>&quot;{&quot;target_category&quot;: &quot;E&quot;}&quot;</td><td>&quot;position&quot;</td><td>&quot;quantitative&quot;</td><td>&quot;numeric&quot;</td><td>5</td><td>5</td><td>&quot;{&quot;config&quot;: {&quot;view&quot;: {&quot;continuo…</td><td>{b&quot;\\x89PNG\\x0d\\x0a\\x1a\\x0a\\x00\\x00\\x00\\x0dIHDR\\x00\\x00\\x01\\xaa\\x00\\x00\\x01\\xba\\x08\\x02\\x00\\x00\\x00\\xd6;\\x95:\\x00\\x00\\x16\\xdeIDATx\\x9c\\xed\\xdd\\xbfs\\xdaj\\xbe\\x80q\\xe5Nf\\xd0\\xcc\\x16h+&quot;…,null}</td><td>&quot;synthetic_data&quot;</td><td>&quot;826ba6c6-5e2d-4b59-8684-77e497…</td></tr><tr><td>&quot;synthetic_data/images/retrieve…</td><td>&quot;What is the value of Var at C?&quot;</td><td>&quot;120.93&quot;</td><td>null</td><td>&quot;retrieve_value&quot;</td><td>&quot;{&quot;target_category&quot;: &quot;C&quot;}&quot;</td><td>&quot;position&quot;</td><td>&quot;quantitative&quot;</td><td>&quot;numeric&quot;</td><td>5</td><td>5</td><td>&quot;{&quot;config&quot;: {&quot;view&quot;: {&quot;continuo…</td><td>{b&quot;\\x89PNG\\x0d\\x0a\\x1a\\x0a\\x00\\x00\\x00\\x0dIHDR\\x00\\x00\\x01\\xc1\\x00\\x00\\x01\\xb0\\x08\\x02\\x00\\x00\\x00^\\xa7I\\xdb\\x00\\x00\\x1b\\xc2IDATx\\x9c\\xed\\xdd?l\\xdbH\\xc2\\xb0q\\xfa\\xc3\\x02\\x16\\xf0\\x16\\x1eW&quot;…,null}</td><td>&quot;synthetic_data&quot;</td><td>&quot;826ba6c6-5e2d-4b59-8684-77e497…</td></tr><tr><td>&quot;synthetic_data/images/retrieve…</td><td>&quot;What is the value of Var at C?&quot;</td><td>&quot;120.93&quot;</td><td>null</td><td>&quot;retrieve_value&quot;</td><td>&quot;{&quot;target_category&quot;: &quot;C&quot;}&quot;</td><td>&quot;position&quot;</td><td>&quot;quantitative&quot;</td><td>&quot;numeric&quot;</td><td>5</td><td>5</td><td>&quot;{&quot;config&quot;: {&quot;view&quot;: {&quot;continuo…</td><td>{b&quot;\\x89PNG\\x0d\\x0a\\x1a\\x0a\\x00\\x00\\x00\\x0dIHDR\\x00\\x00\\x01\\xaa\\x00\\x00\\x01\\xba\\x08\\x02\\x00\\x00\\x00\\xd6;\\x95:\\x00\\x00\\x17\\xf4IDATx\\x9c\\xed\\xdd\\xbfs\\xdaj\\xbe\\x80q\\xe5Nf`f\\x0bt*&quot;…,null}</td><td>&quot;synthetic_data&quot;</td><td>&quot;826ba6c6-5e2d-4b59-8684-77e497…</td></tr><tr><td>&quot;synthetic_data/images/retrieve…</td><td>&quot;What is the value of Var at B?&quot;</td><td>&quot;46.5&quot;</td><td>null</td><td>&quot;retrieve_value&quot;</td><td>&quot;{&quot;target_category&quot;: &quot;B&quot;}&quot;</td><td>&quot;position&quot;</td><td>&quot;quantitative&quot;</td><td>&quot;numeric&quot;</td><td>5</td><td>5</td><td>&quot;{&quot;config&quot;: {&quot;view&quot;: {&quot;continuo…</td><td>{b&quot;\\x89PNG\\x0d\\x0a\\x1a\\x0a\\x00\\x00\\x00\\x0dIHDR\\x00\\x00\\x01\\xbc\\x00\\x00\\x01\\xb0\\x08\\x02\\x00\\x00\\x00]\\x10G\\xf3\\x00\\x00\\x1aSIDATx\\x9c\\xed\\xdd\\xbfo\\xdbH\\xe2\\xb0\\xf1\\xf1\\x8b\\x05,\\xe0\\x0a\\xd1U&quot;…,null}</td><td>&quot;synthetic_data&quot;</td><td>&quot;826ba6c6-5e2d-4b59-8684-77e497…</td></tr></tbody></table></div>"
      ],
      "text/plain": [
       "shape: (5, 15)\n",
       "┌───────────┬───────────┬───────────┬───────────┬───┬───────────┬───────────┬───────────┬──────────┐\n",
       "│ image_pat ┆ question  ┆ true_labe ┆ options   ┆ … ┆ chart_spe ┆ image     ┆ split     ┆ canary_g │\n",
       "│ h         ┆ ---       ┆ l         ┆ ---       ┆   ┆ c         ┆ ---       ┆ ---       ┆ uid      │\n",
       "│ ---       ┆ str       ┆ ---       ┆ list[str] ┆   ┆ ---       ┆ struct[2] ┆ str       ┆ ---      │\n",
       "│ str       ┆           ┆ str       ┆           ┆   ┆ str       ┆           ┆           ┆ str      │\n",
       "╞═══════════╪═══════════╪═══════════╪═══════════╪═══╪═══════════╪═══════════╪═══════════╪══════════╡\n",
       "│ synthetic ┆ What is   ┆ 38.88     ┆ null      ┆ … ┆ {\"config\" ┆ {b\"\\x89PN ┆ synthetic ┆ 826ba6c6 │\n",
       "│ _data/ima ┆ the value ┆           ┆           ┆   ┆ :         ┆ G\\x0d\\x0a ┆ _data     ┆ -5e2d-4b │\n",
       "│ ges/retri ┆ of Var at ┆           ┆           ┆   ┆ {\"view\":  ┆ \\x1a\\x0a\\ ┆           ┆ 59-8684- │\n",
       "│ eve…      ┆ A?        ┆           ┆           ┆   ┆ {\"continu ┆ x00…      ┆           ┆ 77e497…  │\n",
       "│           ┆           ┆           ┆           ┆   ┆ o…        ┆           ┆           ┆          │\n",
       "│ synthetic ┆ What is   ┆ 53.38     ┆ null      ┆ … ┆ {\"config\" ┆ {b\"\\x89PN ┆ synthetic ┆ 826ba6c6 │\n",
       "│ _data/ima ┆ the value ┆           ┆           ┆   ┆ :         ┆ G\\x0d\\x0a ┆ _data     ┆ -5e2d-4b │\n",
       "│ ges/retri ┆ of Var at ┆           ┆           ┆   ┆ {\"view\":  ┆ \\x1a\\x0a\\ ┆           ┆ 59-8684- │\n",
       "│ eve…      ┆ E?        ┆           ┆           ┆   ┆ {\"continu ┆ x00…      ┆           ┆ 77e497…  │\n",
       "│           ┆           ┆           ┆           ┆   ┆ o…        ┆           ┆           ┆          │\n",
       "│ synthetic ┆ What is   ┆ 120.93    ┆ null      ┆ … ┆ {\"config\" ┆ {b\"\\x89PN ┆ synthetic ┆ 826ba6c6 │\n",
       "│ _data/ima ┆ the value ┆           ┆           ┆   ┆ :         ┆ G\\x0d\\x0a ┆ _data     ┆ -5e2d-4b │\n",
       "│ ges/retri ┆ of Var at ┆           ┆           ┆   ┆ {\"view\":  ┆ \\x1a\\x0a\\ ┆           ┆ 59-8684- │\n",
       "│ eve…      ┆ C?        ┆           ┆           ┆   ┆ {\"continu ┆ x00…      ┆           ┆ 77e497…  │\n",
       "│           ┆           ┆           ┆           ┆   ┆ o…        ┆           ┆           ┆          │\n",
       "│ synthetic ┆ What is   ┆ 120.93    ┆ null      ┆ … ┆ {\"config\" ┆ {b\"\\x89PN ┆ synthetic ┆ 826ba6c6 │\n",
       "│ _data/ima ┆ the value ┆           ┆           ┆   ┆ :         ┆ G\\x0d\\x0a ┆ _data     ┆ -5e2d-4b │\n",
       "│ ges/retri ┆ of Var at ┆           ┆           ┆   ┆ {\"view\":  ┆ \\x1a\\x0a\\ ┆           ┆ 59-8684- │\n",
       "│ eve…      ┆ C?        ┆           ┆           ┆   ┆ {\"continu ┆ x00…      ┆           ┆ 77e497…  │\n",
       "│           ┆           ┆           ┆           ┆   ┆ o…        ┆           ┆           ┆          │\n",
       "│ synthetic ┆ What is   ┆ 46.5      ┆ null      ┆ … ┆ {\"config\" ┆ {b\"\\x89PN ┆ synthetic ┆ 826ba6c6 │\n",
       "│ _data/ima ┆ the value ┆           ┆           ┆   ┆ :         ┆ G\\x0d\\x0a ┆ _data     ┆ -5e2d-4b │\n",
       "│ ges/retri ┆ of Var at ┆           ┆           ┆   ┆ {\"view\":  ┆ \\x1a\\x0a\\ ┆           ┆ 59-8684- │\n",
       "│ eve…      ┆ B?        ┆           ┆           ┆   ┆ {\"continu ┆ x00…      ┆           ┆ 77e497…  │\n",
       "│           ┆           ┆           ┆           ┆   ┆ o…        ┆           ┆           ┆          │\n",
       "└───────────┴───────────┴───────────┴───────────┴───┴───────────┴───────────┴───────────┴──────────┘"
      ]
     },
     "execution_count": 27,
     "metadata": {},
     "output_type": "execute_result"
    }
   ],
   "source": [
    "ret_df.head()"
   ]
  },
  {
   "cell_type": "markdown",
   "id": "59d7aaf0",
   "metadata": {},
   "source": [
    "We will save these images somewhere, so we can exmaine them further: "
   ]
  },
  {
   "cell_type": "code",
   "execution_count": 28,
   "id": "92d28da0",
   "metadata": {},
   "outputs": [],
   "source": [
    "def render_image(image_bytes):\n",
    "    return Image.open(io.BytesIO(base64.b64decode(image_bytes))) \n",
    "    \n",
    "    "
   ]
  },
  {
   "cell_type": "code",
   "execution_count": 43,
   "id": "cfc8fbab",
   "metadata": {},
   "outputs": [],
   "source": [
    "for i, row in enumerate(ret_df.head(5).iter_rows(named=True)): \n",
    "    json_data = json.loads(row['chart_spec'])\n",
    "    with open(f\"data/img/{i}.json\", \"w\") as f: \n",
    "        # json.dump(row['chart_spec'], f)\n",
    "        # f.write(json_data)\n",
    "        json.dump(json_data, f, indent=4, ensure_ascii=False)\n",
    "    \n",
    "    \n",
    "    "
   ]
  },
  {
   "cell_type": "code",
   "execution_count": null,
   "id": "b4deedd4",
   "metadata": {},
   "outputs": [],
   "source": []
  }
 ],
 "metadata": {
  "kernelspec": {
   "display_name": ".venv",
   "language": "python",
   "name": "python3"
  },
  "language_info": {
   "codemirror_mode": {
    "name": "ipython",
    "version": 3
   },
   "file_extension": ".py",
   "mimetype": "text/x-python",
   "name": "python",
   "nbconvert_exporter": "python",
   "pygments_lexer": "ipython3",
   "version": "3.11.6"
  }
 },
 "nbformat": 4,
 "nbformat_minor": 5
}
